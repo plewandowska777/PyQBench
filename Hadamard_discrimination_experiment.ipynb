{
 "cells": [
  {
   "cell_type": "code",
<<<<<<< HEAD
   "execution_count": 2,
   "id": "901676ea-58e2-495c-89bd-40c7e4e239fb",
   "metadata": {},
   "outputs": [
    {
     "ename": "ImportError",
     "evalue": "cannot import name 'benchmark_discrimination_using_postselection' from 'qbench.schemes.postselection' (/home/plewandowska/AAA.OSTRAVA/discrimination-various-methods/PyQBench/qbench/schemes/postselection.py)",
     "output_type": "error",
     "traceback": [
      "\u001b[0;31m---------------------------------------------------------------------------\u001b[0m",
      "\u001b[0;31mImportError\u001b[0m                               Traceback (most recent call last)",
      "Cell \u001b[0;32mIn[2], line 4\u001b[0m\n\u001b[1;32m      1\u001b[0m \u001b[38;5;28;01mfrom\u001b[39;00m \u001b[38;5;21;01mqiskit\u001b[39;00m \u001b[38;5;28;01mimport\u001b[39;00m QuantumCircuit\n\u001b[1;32m      2\u001b[0m \u001b[38;5;28;01mimport\u001b[39;00m \u001b[38;5;21;01mnumpy\u001b[39;00m \u001b[38;5;28;01mas\u001b[39;00m \u001b[38;5;21;01mnp\u001b[39;00m\n\u001b[0;32m----> 4\u001b[0m \u001b[38;5;28;01mfrom\u001b[39;00m \u001b[38;5;21;01mqbench\u001b[39;00m\u001b[38;5;21;01m.\u001b[39;00m\u001b[38;5;21;01mschemes\u001b[39;00m\u001b[38;5;21;01m.\u001b[39;00m\u001b[38;5;21;01mpostselection\u001b[39;00m \u001b[38;5;28;01mimport\u001b[39;00m benchmark_discrimination_using_postselection\n\u001b[1;32m      5\u001b[0m \u001b[38;5;28;01mfrom\u001b[39;00m \u001b[38;5;21;01mqbench\u001b[39;00m\u001b[38;5;21;01m.\u001b[39;00m\u001b[38;5;21;01mschemes\u001b[39;00m\u001b[38;5;21;01m.\u001b[39;00m\u001b[38;5;21;01mdirect_sum\u001b[39;00m \u001b[38;5;28;01mimport\u001b[39;00m benchmark_discrimination_using_direct_sum\n",
      "\u001b[0;31mImportError\u001b[0m: cannot import name 'benchmark_discrimination_using_postselection' from 'qbench.schemes.postselection' (/home/plewandowska/AAA.OSTRAVA/discrimination-various-methods/PyQBench/qbench/schemes/postselection.py)"
     ]
    }
   ],
=======
   "id": "901676ea-58e2-495c-89bd-40c7e4e239fb",
   "metadata": {
    "ExecuteTime": {
     "end_time": "2025-01-18T02:14:04.697744Z",
     "start_time": "2025-01-18T02:14:04.693263Z"
    }
   },
>>>>>>> 6254c9f8b6cd414b0c54bbb85a396eeaa62a696c
   "source": [
    "from qiskit import QuantumCircuit\n",
    "import numpy as np\n",
    "from qiskit_aer.primitives import SamplerV2\n",
    "\n",
    "from qbench.schemes.postselection import benchmark_discrimination_using_postselection\n",
    "from qbench.schemes.direct_sum import benchmark_discrimination_using_direct_sum"
<<<<<<< HEAD
   ]
=======
   ],
   "outputs": [],
   "execution_count": 10
>>>>>>> 6254c9f8b6cd414b0c54bbb85a396eeaa62a696c
  },
  {
   "cell_type": "code",
   "id": "70c82def-c313-4968-8999-fd6f562cbb7a",
<<<<<<< HEAD
   "metadata": {},
   "outputs": [],
=======
   "metadata": {
    "ExecuteTime": {
     "end_time": "2025-01-18T02:14:04.715875Z",
     "start_time": "2025-01-18T02:14:04.712064Z"
    }
   },
>>>>>>> 6254c9f8b6cd414b0c54bbb85a396eeaa62a696c
   "source": [
    "from qiskit_aer import StatevectorSimulator\n",
    "\n",
    "simulator = StatevectorSimulator()"
<<<<<<< HEAD
   ]
=======
   ],
   "outputs": [],
   "execution_count": 11
>>>>>>> 6254c9f8b6cd414b0c54bbb85a396eeaa62a696c
  },
  {
   "cell_type": "code",
   "id": "e3ce562e-5bb4-4cf3-ab92-e02c4baab7ce",
<<<<<<< HEAD
   "metadata": {},
   "outputs": [],
=======
   "metadata": {
    "ExecuteTime": {
     "end_time": "2025-01-18T02:14:04.736169Z",
     "start_time": "2025-01-18T02:14:04.731399Z"
    }
   },
>>>>>>> 6254c9f8b6cd414b0c54bbb85a396eeaa62a696c
   "source": [
    "### discrimination experiment for measurement in Hadamard basis using postselection and direct sum###\n",
    "\n",
    "def state_prep():\n",
    "    circuit = QuantumCircuit(2)\n",
    "    circuit.h(0)\n",
    "    circuit.cx(0, 1)\n",
    "    return circuit.to_instruction()\n",
    "\n",
    "def u_dag():\n",
    "    circuit = QuantumCircuit(1)\n",
    "    circuit.h(0)\n",
    "    return circuit.to_instruction()\n",
    "\n",
    "def v0_dag():\n",
    "    circuit = QuantumCircuit(1)\n",
    "    circuit.ry(-np.pi * 3 / 4, 0)\n",
    "    return circuit.to_instruction()\n",
    "    \n",
    "def v1_dag():\n",
    "    circuit = QuantumCircuit(1)\n",
    "    circuit.ry(-np.pi * 3 / 4, 0)\n",
    "    circuit.x(0)\n",
    "    return circuit.to_instruction()\n",
    "    \n",
    "def v0_v1_direct_sum_dag():\n",
    "    circuit = QuantumCircuit(2)\n",
    "    circuit.ry(-np.pi * 3 / 4, 0)\n",
    "    circuit.cx(0, 1)\n",
    "    return circuit.to_instruction()"
<<<<<<< HEAD
   ]
=======
   ],
   "outputs": [],
   "execution_count": 12
>>>>>>> 6254c9f8b6cd414b0c54bbb85a396eeaa62a696c
  },
  {
   "cell_type": "code",
   "id": "939f2579-0b6d-4430-8c7e-37aaece4b47a",
<<<<<<< HEAD
   "metadata": {},
   "outputs": [],
=======
   "metadata": {
    "ExecuteTime": {
     "end_time": "2025-01-18T02:14:06.729272Z",
     "start_time": "2025-01-18T02:14:04.737353Z"
    }
   },
>>>>>>> 6254c9f8b6cd414b0c54bbb85a396eeaa62a696c
   "source": [
    "discrimination_postselection_result = benchmark_discrimination_using_postselection(\n",
    "    backend=simulator,\n",
    "    target=0,\n",
    "    ancilla=1,\n",
    "    state_preparation=state_prep(),\n",
    "    u_dag=u_dag(),\n",
    "    v0_dag=v0_dag(),\n",
    "    v1_dag=v1_dag(),\n",
    "    num_shots_per_measurement=100000,)"
<<<<<<< HEAD
   ]
=======
   ],
   "outputs": [],
   "execution_count": 13
>>>>>>> 6254c9f8b6cd414b0c54bbb85a396eeaa62a696c
  },
  {
   "cell_type": "code",
   "id": "6bfde52e-855a-42b0-95a9-95b40aa41ef5",
<<<<<<< HEAD
   "metadata": {},
   "outputs": [],
=======
   "metadata": {
    "ExecuteTime": {
     "end_time": "2025-01-18T02:14:07.698378Z",
     "start_time": "2025-01-18T02:14:06.730231Z"
    }
   },
>>>>>>> 6254c9f8b6cd414b0c54bbb85a396eeaa62a696c
   "source": [
    "discrimination_direct_sum_result = benchmark_discrimination_using_direct_sum(\n",
    "    backend=simulator,\n",
    "    target=1,\n",
    "    ancilla=2,\n",
    "    state_preparation=state_prep(),\n",
    "    u_dag=u_dag(),\n",
    "    v0_v1_direct_sum_dag=v0_v1_direct_sum_dag(),\n",
    "    num_shots_per_measurement=100000,)"
<<<<<<< HEAD
   ]
=======
   ],
   "outputs": [],
   "execution_count": 14
>>>>>>> 6254c9f8b6cd414b0c54bbb85a396eeaa62a696c
  },
  {
   "cell_type": "code",
   "id": "325d3e88-5b6c-46d4-9dff-58750f159a3a",
<<<<<<< HEAD
   "metadata": {},
   "outputs": [],
=======
   "metadata": {
    "ExecuteTime": {
     "end_time": "2025-01-18T02:14:07.702315Z",
     "start_time": "2025-01-18T02:14:07.699679Z"
    }
   },
>>>>>>> 6254c9f8b6cd414b0c54bbb85a396eeaa62a696c
   "source": [
    "p_succ = (2 + np.sqrt(2)) / 4\n",
    "print(f\"Analytical p_succ = {p_succ}\")\n",
    "print(f\"Postselection: p_succ = {discrimination_postselection_result}, abs.error ={np.abs(p_succ - discrimination_postselection_result)}\")\n",
    "print(f\"Direct sum: p_succ = {discrimination_direct_sum_result}, abs.error ={np.abs(p_succ - discrimination_direct_sum_result)}\")"
<<<<<<< HEAD
   ]
=======
   ],
   "outputs": [
    {
     "name": "stdout",
     "output_type": "stream",
     "text": [
      "Analytical p_succ = 0.8535533905932737\n",
      "Postselection: p_succ = 0.8549341565062727, abs.error =0.0013807659129989602\n",
      "Direct sum: p_succ = 0.852805, abs.error =0.0007483905932736956\n"
     ]
    }
   ],
   "execution_count": 15
>>>>>>> 6254c9f8b6cd414b0c54bbb85a396eeaa62a696c
  },
  {
   "cell_type": "code",
   "id": "f24a2681-db8f-42af-890f-0d4201bec4d0",
<<<<<<< HEAD
   "metadata": {},
   "outputs": [],
=======
   "metadata": {
    "ExecuteTime": {
     "end_time": "2025-01-18T02:14:07.718969Z",
     "start_time": "2025-01-18T02:14:07.703509Z"
    }
   },
>>>>>>> 6254c9f8b6cd414b0c54bbb85a396eeaa62a696c
   "source": [
    "from qbench.schemes.postselection import (\n",
    "    assemble_circuits_discrimination_postselection,\n",
    "    compute_probabilities_discrimination_postselection,)\n",
    "\n",
    "circuits = assemble_circuits_discrimination_postselection(\n",
    "    target=0,\n",
    "    ancilla=1,\n",
    "    state_preparation=state_prep(),\n",
    "    u_dag=u_dag(),\n",
    "    v0_dag=v0_dag(),\n",
    "    v1_dag=v1_dag(),)"
<<<<<<< HEAD
   ]
=======
   ],
   "outputs": [],
   "execution_count": 16
>>>>>>> 6254c9f8b6cd414b0c54bbb85a396eeaa62a696c
  },
  {
   "cell_type": "code",
   "id": "a4d56672-4ec9-406e-84d8-8038df8057fc",
<<<<<<< HEAD
   "metadata": {},
   "outputs": [],
=======
   "metadata": {
    "ExecuteTime": {
     "end_time": "2025-01-18T02:14:07.724311Z",
     "start_time": "2025-01-18T02:14:07.719580Z"
    }
   },
>>>>>>> 6254c9f8b6cd414b0c54bbb85a396eeaa62a696c
   "source": [
    "from qiskit_aer.noise import NoiseModel, ReadoutError\n",
    "\n",
    "error = ReadoutError([[0.75, 0.25], [0.8, 0.2]])\n",
    "noise_model = NoiseModel()\n",
    "noise_model.add_readout_error(error, [0])\n",
    "noise_model.add_readout_error(error, [1])\n"
<<<<<<< HEAD
   ]
=======
   ],
   "outputs": [],
   "execution_count": 17
>>>>>>> 6254c9f8b6cd414b0c54bbb85a396eeaa62a696c
  },
  {
   "cell_type": "code",
   "id": "ea5ffbfb-d2f0-4007-a49b-44de3aee9ef3",
<<<<<<< HEAD
   "metadata": {},
   "outputs": [],
=======
   "metadata": {
    "ExecuteTime": {
     "end_time": "2025-01-18T02:14:08.149808Z",
     "start_time": "2025-01-18T02:14:07.725361Z"
    }
   },
>>>>>>> 6254c9f8b6cd414b0c54bbb85a396eeaa62a696c
   "source": [
    "keys_ordering = [\"id_v0\", \"id_v1\", \"u_v0\", \"u_v1\"]\n",
    "\n",
    "all_circuits = [circuits[key] for key in keys_ordering]\n",
    "\n",
    "sampler_noiseless = SamplerV2()\n",
    "sampler_noisy = SamplerV2(options=dict(backend_options=dict(noise_model=noise_model)))\n",
    "\n",
<<<<<<< HEAD
    "counts_noiseless = simulator.run(\n",
    "    all_circuits,\n",
    "    backend=simulator,\n",
    "    shots=10000).result().get_counts()"
   ]
=======
    "counts_noisy = [sampler_noisy.run(\n",
    "    [circ],\n",
    "    shots=10000).result()[0].data.meas.get_counts() for circ in all_circuits]\n",
    "\n",
    "counts_noiseless = [sampler_noiseless.run(\n",
    "    [circ],\n",
    "    shots=10000).result()[0].data.meas.get_counts() for circ in all_circuits]"
   ],
   "outputs": [],
   "execution_count": 18
>>>>>>> 6254c9f8b6cd414b0c54bbb85a396eeaa62a696c
  },
  {
   "cell_type": "code",
   "id": "5859c0fd-440d-4998-8b9f-dd325c09bcbe",
<<<<<<< HEAD
   "metadata": {},
   "outputs": [],
=======
   "metadata": {
    "ExecuteTime": {
     "end_time": "2025-01-18T02:14:08.154580Z",
     "start_time": "2025-01-18T02:14:08.150942Z"
    }
   },
>>>>>>> 6254c9f8b6cd414b0c54bbb85a396eeaa62a696c
   "source": [
    "prob_succ_noiseless = compute_probabilities_discrimination_postselection(\n",
    "    id_v0_counts=counts_noiseless[0],\n",
    "    id_v1_counts=counts_noiseless[1],\n",
    "    u_v0_counts=counts_noiseless[2],\n",
    "    u_v1_counts=counts_noiseless[3],)\n",
    "\n",
    "prob_succ_noisy = compute_probabilities_discrimination_postselection(\n",
    "    id_v0_counts=counts_noisy[0],\n",
    "    id_v1_counts=counts_noisy[1],\n",
    "    u_v0_counts=counts_noisy[2],\n",
    "    u_v1_counts=counts_noisy[3],)"
<<<<<<< HEAD
   ]
=======
   ],
   "outputs": [],
   "execution_count": 19
>>>>>>> 6254c9f8b6cd414b0c54bbb85a396eeaa62a696c
  },
  {
   "cell_type": "code",
   "id": "09f57db2-f29d-4eba-ad57-a3cfad62142c",
<<<<<<< HEAD
   "metadata": {},
   "outputs": [],
=======
   "metadata": {
    "ExecuteTime": {
     "end_time": "2025-01-18T02:14:08.160687Z",
     "start_time": "2025-01-18T02:14:08.156436Z"
    }
   },
>>>>>>> 6254c9f8b6cd414b0c54bbb85a396eeaa62a696c
   "source": [
    "p_succ = (2 + np.sqrt(2)) / 4\n",
    "print(f\"Analytical p_succ = {p_succ}\")\n",
    "print(f\"Prob_succ_noiseless {prob_succ_noiseless}, abs.error ={np.abs(p_succ - prob_succ_noiseless)}\")\n",
    "print(f\"Prob_succ_noisy = {prob_succ_noisy}, abs.error ={np.abs(p_succ - prob_succ_noisy)}\")"
<<<<<<< HEAD
   ]
  },
  {
   "cell_type": "code",
   "execution_count": null,
   "id": "f5bd90ae-9b58-4184-b060-140e6e11e96f",
   "metadata": {},
   "outputs": [],
   "source": []
=======
   ],
   "outputs": [
    {
     "name": "stdout",
     "output_type": "stream",
     "text": [
      "Analytical p_succ = 0.8535533905932737\n",
      "Prob_succ_noiseless 0.8572140850212383, abs.error =0.0036606944279645726\n",
      "Prob_succ_noisy = 0.5044143159173481, abs.error =0.34913907467592564\n"
     ]
    }
   ],
   "execution_count": 20
>>>>>>> 6254c9f8b6cd414b0c54bbb85a396eeaa62a696c
  }
 ],
 "metadata": {
  "kernelspec": {
   "display_name": "Python 3 (ipykernel)",
   "language": "python",
   "name": "python3"
  },
  "language_info": {
   "codemirror_mode": {
    "name": "ipython",
    "version": 3
   },
   "file_extension": ".py",
   "mimetype": "text/x-python",
   "name": "python",
   "nbconvert_exporter": "python",
   "pygments_lexer": "ipython3",
   "version": "3.11.9"
  }
 },
 "nbformat": 4,
 "nbformat_minor": 5
}
