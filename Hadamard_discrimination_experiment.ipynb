{
 "cells": [
  {
   "cell_type": "code",
   "execution_count": 1,
   "id": "901676ea-58e2-495c-89bd-40c7e4e239fb",
   "metadata": {},
   "source": [
    "from qiskit import QuantumCircuit\n",
    "import numpy as np\n",
    "\n",
    "from qbench.schemes.postselection import benchmark_discrimination_using_postselection\n",
    "from qbench.schemes.direct_sum import benchmark_discrimination_using_direct_sum"
   ],
   "outputs": []
  },
  {
   "cell_type": "code",
   "execution_count": 2,
   "id": "70c82def-c313-4968-8999-fd6f562cbb7a",
   "metadata": {},
   "source": [
    "from qiskit_aer import StatevectorSimulator\n",
    "\n",
    "simulator = StatevectorSimulator()"
   ],
   "outputs": []
  },
  {
   "cell_type": "code",
   "execution_count": 4,
   "id": "e3ce562e-5bb4-4cf3-ab92-e02c4baab7ce",
   "metadata": {},
   "source": [
    "### discrimination experiment for measurement in Hadamard basis using postselection and direct sum###\n",
    "\n",
    "def state_prep():\n",
    "    circuit = QuantumCircuit(2)\n",
    "    circuit.h(0)\n",
    "    circuit.cx(0, 1)\n",
    "    return circuit.to_instruction()\n",
    "\n",
    "def u_dag():\n",
    "    circuit = QuantumCircuit(1)\n",
    "    circuit.h(0)\n",
    "    return circuit.to_instruction()\n",
    "\n",
    "def v0_dag():\n",
    "    circuit = QuantumCircuit(1)\n",
    "    circuit.ry(-np.pi * 3 / 4, 0)\n",
    "    return circuit.to_instruction()\n",
    "    \n",
    "def v1_dag():\n",
    "    circuit = QuantumCircuit(1)\n",
    "    circuit.ry(-np.pi * 3 / 4, 0)\n",
    "    circuit.x(0)\n",
    "    return circuit.to_instruction()\n",
    "    \n",
    "def v0_v1_direct_sum_dag():\n",
    "    circuit = QuantumCircuit(2)\n",
    "    circuit.ry(-np.pi * 3 / 4, 0)\n",
    "    circuit.cx(0, 1)\n",
    "    return circuit.to_instruction()"
   ],
   "outputs": []
  },
  {
   "cell_type": "code",
   "execution_count": 5,
   "id": "939f2579-0b6d-4430-8c7e-37aaece4b47a",
   "metadata": {},
   "source": [
    "discrimination_postselection_result = benchmark_discrimination_using_postselection(\n",
    "    backend=simulator,\n",
    "    target=0,\n",
    "    ancilla=1,\n",
    "    state_preparation=state_prep(),\n",
    "    u_dag=u_dag(),\n",
    "    v0_dag=v0_dag(),\n",
    "    v1_dag=v1_dag(),\n",
    "    num_shots_per_measurement=100000,)"
   ],
   "outputs": []
  },
  {
   "cell_type": "code",
   "execution_count": 6,
   "id": "6bfde52e-855a-42b0-95a9-95b40aa41ef5",
   "metadata": {},
   "source": [
    "discrimination_direct_sum_result = benchmark_discrimination_using_direct_sum(\n",
    "    backend=simulator,\n",
    "    target=1,\n",
    "    ancilla=2,\n",
    "    state_preparation=state_prep(),\n",
    "    u_dag=u_dag(),\n",
    "    v0_v1_direct_sum_dag=v0_v1_direct_sum_dag(),\n",
    "    num_shots_per_measurement=100000,)"
   ],
   "outputs": []
  },
  {
   "cell_type": "code",
   "execution_count": 7,
   "id": "325d3e88-5b6c-46d4-9dff-58750f159a3a",
   "metadata": {},
   "source": [
    "p_succ = (2 + np.sqrt(2)) / 4\n",
    "print(f\"Analytical p_succ = {p_succ}\")\n",
    "print(f\"Postselection: p_succ = {discrimination_postselection_result}, abs.error ={np.abs(p_succ - discrimination_postselection_result)}\")\n",
    "print(f\"Direct sum: p_succ = {discrimination_direct_sum_result}, abs.error ={np.abs(p_succ - discrimination_direct_sum_result)}\")"
   ],
   "outputs": []
  },
  {
   "cell_type": "code",
   "execution_count": 8,
   "id": "f24a2681-db8f-42af-890f-0d4201bec4d0",
   "metadata": {},
   "source": [
    "from qbench.schemes.postselection import (\n",
    "    assemble_circuits_discrimination_postselection,\n",
    "    compute_probabilities_discrimination_postselection,)\n",
    "\n",
    "circuits = assemble_circuits_discrimination_postselection(\n",
    "    target=0,\n",
    "    ancilla=1,\n",
    "    state_preparation=state_prep(),\n",
    "    u_dag=u_dag(),\n",
    "    v0_dag=v0_dag(),\n",
    "    v1_dag=v1_dag(),)"
   ],
   "outputs": []
  },
  {
   "cell_type": "code",
   "execution_count": 9,
   "id": "a4d56672-4ec9-406e-84d8-8038df8057fc",
   "metadata": {},
   "source": [
    "from qiskit_aer.noise import NoiseModel, ReadoutError\n",
    "\n",
    "error = ReadoutError([[0.75, 0.25], [0.8, 0.2]])\n",
    "noise_model = NoiseModel()\n",
    "noise_model.add_readout_error(error, [0])\n",
    "noise_model.add_readout_error(error, [1])\n"
   ],
   "outputs": []
  },
  {
   "cell_type": "code",
   "execution_count": 10,
   "id": "ea5ffbfb-d2f0-4007-a49b-44de3aee9ef3",
   "metadata": {},
   "source": [
    "keys_ordering = [\"id_v0\", \"id_v1\", \"u_v0\", \"u_v1\"]\n",
    "\n",
    "all_circuits = [circuits[key] for key in keys_ordering]\n",
    "\n",
    "counts_noisy = simulator.run(\n",
    "    all_circuits,\n",
    "    backend=simulator,\n",
    "    noise_model=noise_model,\n",
    "    shots=10000).result().get_counts()\n",
    "\n",
    "counts_noiseless = simulator.run(\n",
    "    all_circuits,\n",
    "    backend=simulator,\n",
    "    shots=10000).result().get_counts()"
   ],
   "outputs": []
  },
  {
   "cell_type": "code",
   "execution_count": 11,
   "id": "5859c0fd-440d-4998-8b9f-dd325c09bcbe",
   "metadata": {},
   "source": [
    "prob_succ_noiseless = compute_probabilities_discrimination_postselection(\n",
    "    id_v0_counts=counts_noiseless[0],\n",
    "    id_v1_counts=counts_noiseless[1],\n",
    "    u_v0_counts=counts_noiseless[2],\n",
    "    u_v1_counts=counts_noiseless[3],)\n",
    "\n",
    "prob_succ_noisy = compute_probabilities_discrimination_postselection(\n",
    "    id_v0_counts=counts_noisy[0],\n",
    "    id_v1_counts=counts_noisy[1],\n",
    "    u_v0_counts=counts_noisy[2],\n",
    "    u_v1_counts=counts_noisy[3],)"
   ],
   "outputs": []
  },
  {
   "cell_type": "code",
   "execution_count": 12,
   "id": "09f57db2-f29d-4eba-ad57-a3cfad62142c",
   "metadata": {},
   "source": [
    "p_succ = (2 + np.sqrt(2)) / 4\n",
    "print(f\"Analytical p_succ = {p_succ}\")\n",
    "print(f\"Prob_succ_noiseless {prob_succ_noiseless}, abs.error ={np.abs(p_succ - prob_succ_noiseless)}\")\n",
    "print(f\"Prob_succ_noisy = {prob_succ_noisy}, abs.error ={np.abs(p_succ - prob_succ_noisy)}\")"
   ],
   "outputs": []
  },
  {
   "cell_type": "code",
   "execution_count": null,
   "id": "f5bd90ae-9b58-4184-b060-140e6e11e96f",
   "metadata": {},
   "source": [],
   "outputs": []
  }
 ],
 "metadata": {
  "kernelspec": {
   "display_name": "Python 3 (ipykernel)",
   "language": "python",
   "name": "python3"
  },
  "language_info": {
   "codemirror_mode": {
    "name": "ipython",
    "version": 3
   },
   "file_extension": ".py",
   "mimetype": "text/x-python",
   "name": "python",
   "nbconvert_exporter": "python",
   "pygments_lexer": "ipython3",
   "version": "3.11.9"
  }
 },
 "nbformat": 4,
 "nbformat_minor": 5
}
