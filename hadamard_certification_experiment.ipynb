from qiskit_aer import StatevectorSimulator
from qiskit import QuantumCircuit
import numpy as np
from qbench.schemes.postselection import 
    benchmark_certification_using_postselection
from qbench.schemes.direct_sum import 
    benchmark_certification_using_direct_sum
    
def state_prep():
    circuit = QuantumCircuit(2)
    circuit.h(0)
    circuit.cx(0,1)
    return circuit.to_instruction()
    
def u_dag():
    circuit = QuantumCircuit(1)
    circuit.h(0)
    return circuit.to_instruction()

def v0_dag():
    circuit = QuantumCircuit(1)
    circuit.ry(2 * np.arcsin(np.sqrt(0.05)), 0)
    return circuit.to_instruction()

def v1_dag():
    circuit = QuantumCircuit(1)
    circuit.ry(2 * np.arcsin(np.sqrt(0.05)), 0)
    circuit.x(0)
    return circuit.to_instruction()

def v0_v1_direct_sum_dag():
    circuit = QuantumCircuit(2)
    circuit.p(-np.pi, 0)
    circuit.ry(-2 * np.arcsin(np.sqrt(0.05)), 0)
    circuit.cx(0, 1)
    return circuit.to_instruction()
    
simulator = StatevectorSimulator()

postselection_result = 
    benchmark_certification_using_postselection(
    backend=simulator,
    target=0,
    ancilla=1,
    state_preparation=state_prep(),
    u_dag=u_dag(),
    v0_dag=v0_dag(),
    v1_dag=v1_dag(),
    num_shots_per_measurement=10000)
    
direct_sum_result = benchmark_certification_using_direct_sum(
    backend=simulator,
    target=0,
    ancilla=1,
    state_preparation=state_prep(),
    u_dag=u_dag(),
    v0_v1_direct_sum_dag=v0_v1_direct_sum_dag(),
    num_shots_per_measurement=10000)
    
p_succ = (1/np.sqrt(2) * np.sqrt(0.95) +
        - 1/np.sqrt(2) * np.sqrt(0.05))**2
print(f"Analytical p_succ = {p_succ}")
print(f"Postselection: p_succ = {postselection_result}, 
abs_error ={np.abs(p_succ - postselection_result)}")
print(f"Direct_sum: p_succ = {direct_sum_result}, 
abs_error ={np.abs(p_succ - direct_sum_result)}")

    
